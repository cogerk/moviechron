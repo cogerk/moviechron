{
 "cells": [
  {
   "cell_type": "code",
   "execution_count": 1,
   "metadata": {},
   "outputs": [],
   "source": [
    "import pandas as pd\n",
    "import warnings"
   ]
  },
  {
   "cell_type": "code",
   "execution_count": 5,
   "metadata": {},
   "outputs": [],
   "source": [
    "easy_df = pd.read_csv('data/selected_films_easy.tsv', sep='\\t', index_col=0)\n",
    "medi_df = pd.read_csv('data/selected_films_easy.tsv', sep='\\t', index_col=0)\n",
    "hard_df = pd.read_csv('data/selected_films_easy.tsv', sep='\\t', index_col=0)\n",
    "impo_df = pd.read_csv('data/selected_films_easy.tsv', sep='\\t', index_col=0)\n",
    "# TODO: Fix spacing #Big poster, text on hover w/ alpha\n",
    "# TODO: Replace above tsv files with respective difficulty files\n",
    "#Exception if release date’s year doesn’t match startYear\n",
    "#Algorithm for more evenly spread release dates \n",
    "# TODO: points system, \n",
    "# TODO: multiplayer, \n",
    "# TODO: save game\n",
    "# TODO: Clean up database\n",
    "# TODO: Game complete \n",
    "#In the wings = On Deck"
   ]
  },
  {
   "cell_type": "code",
   "execution_count": 6,
   "metadata": {},
   "outputs": [],
   "source": [
    "game_diff = 'E'\n",
    "deck_size = 20\n",
    "game_id = 366215398"
   ]
  },
  {
   "cell_type": "code",
   "execution_count": 15,
   "metadata": {},
   "outputs": [],
   "source": [
    "if game_diff == 'E':\n",
    "    all_movies = easy_df#.sample(deck_size, random_state=self.deck_id).reset_index(drop=True)\n",
    "elif game_diff == 'M':\n",
    "    all_movies = medi_df\n",
    "elif game_diff == 'H':\n",
    "    all_movies = hard_df\n",
    "elif game_diff == 'I':\n",
    "    all_movies = impo_df\n",
    "else:\n",
    "    all_movies = easy_df\n",
    "    warnings.warn('Invalid difficulty, using easy.', SyntaxWarning)\n",
    "years = pd.Series(all_movies.startYear.unique()).\\\n",
    "    sample(deck_size, random_state=game_id, replace=True).\\\n",
    "    sort_values().reset_index(drop=True)\n",
    "#all_movies['startYear'] == years[]\n",
    "\n"
   ]
  },
  {
   "cell_type": "code",
   "execution_count": 21,
   "metadata": {},
   "outputs": [
    {
     "data": {
      "text/plain": [
       "39614"
      ]
     },
     "execution_count": 21,
     "metadata": {},
     "output_type": "execute_result"
    }
   ],
   "source": [
    "years.aggregate(func=)"
   ]
  },
  {
   "cell_type": "code",
   "execution_count": 13,
   "metadata": {},
   "outputs": [
    {
     "data": {
      "text/plain": [
       "24    1982\n7     1959\n22    1980\n18    1976\n18    1976\n14    1972\n9     1962\n13    1971\n6     1958\n38    1996\n13    1971\n31    1989\n47    2003\n53    2010\n15    1973\n8     1960\n42    2005\n18    1976\n29    1987\n52    2008\ndtype: int64"
      ]
     },
     "execution_count": 13,
     "metadata": {},
     "output_type": "execute_result"
    }
   ],
   "source": [
    "pd.Series().aggregate"
   ]
  }
 ],
 "metadata": {
  "kernelspec": {
   "display_name": "Python 3",
   "language": "python",
   "name": "python3"
  },
  "language_info": {
   "codemirror_mode": {
    "name": "ipython",
    "version": 3
   },
   "file_extension": ".py",
   "mimetype": "text/x-python",
   "name": "python",
   "nbconvert_exporter": "python",
   "pygments_lexer": "ipython3",
   "version": "3.6.5"
  }
 },
 "nbformat": 4,
 "nbformat_minor": 2
}
