{
 "cells": [
  {
   "cell_type": "code",
   "execution_count": 2,
   "metadata": {},
   "outputs": [],
   "source": [
    "import pandas as pd"
   ]
  },
  {
   "cell_type": "code",
   "execution_count": 3,
   "metadata": {},
   "outputs": [
    {
     "data": {
      "text/html": [
       "<div>\n",
       "<style scoped>\n",
       "    .dataframe tbody tr th:only-of-type {\n",
       "        vertical-align: middle;\n",
       "    }\n",
       "\n",
       "    .dataframe tbody tr th {\n",
       "        vertical-align: top;\n",
       "    }\n",
       "\n",
       "    .dataframe thead th {\n",
       "        text-align: right;\n",
       "    }\n",
       "</style>\n",
       "<table border=\"1\" class=\"dataframe\">\n",
       "  <thead>\n",
       "    <tr style=\"text-align: right;\">\n",
       "      <th></th>\n",
       "      <th>tconst</th>\n",
       "      <th>titleType</th>\n",
       "      <th>primaryTitle</th>\n",
       "      <th>originalTitle</th>\n",
       "      <th>isAdult</th>\n",
       "      <th>startYear</th>\n",
       "      <th>endYear</th>\n",
       "      <th>runtimeMinutes</th>\n",
       "      <th>genres</th>\n",
       "      <th>averageRating</th>\n",
       "      <th>numVotes</th>\n",
       "      <th>releaseDate</th>\n",
       "      <th>posterURL</th>\n",
       "      <th>releaseCountry</th>\n",
       "    </tr>\n",
       "  </thead>\n",
       "  <tbody>\n",
       "    <tr>\n",
       "      <th>467</th>\n",
       "      <td>1981115</td>\n",
       "      <td>movie</td>\n",
       "      <td>Thor: The Dark World</td>\n",
       "      <td>Thor: The Dark World</td>\n",
       "      <td>0</td>\n",
       "      <td>2013</td>\n",
       "      <td>\\N</td>\n",
       "      <td>112</td>\n",
       "      <td>Action,Adventure,Fantasy</td>\n",
       "      <td>7.0</td>\n",
       "      <td>523709</td>\n",
       "      <td>2013-11-08</td>\n",
       "      <td>https://m.media-amazon.com/images/M/MV5BMTQyNz...</td>\n",
       "      <td>USA</td>\n",
       "    </tr>\n",
       "    <tr>\n",
       "      <th>468</th>\n",
       "      <td>1981677</td>\n",
       "      <td>movie</td>\n",
       "      <td>Pitch Perfect</td>\n",
       "      <td>Pitch Perfect</td>\n",
       "      <td>0</td>\n",
       "      <td>2012</td>\n",
       "      <td>\\N</td>\n",
       "      <td>112</td>\n",
       "      <td>Comedy,Music,Romance</td>\n",
       "      <td>7.2</td>\n",
       "      <td>253445</td>\n",
       "      <td>2012-10-05</td>\n",
       "      <td>https://m.media-amazon.com/images/M/MV5BMTcyMT...</td>\n",
       "      <td>USA</td>\n",
       "    </tr>\n",
       "    <tr>\n",
       "      <th>469</th>\n",
       "      <td>2024544</td>\n",
       "      <td>movie</td>\n",
       "      <td>12 Years a Slave</td>\n",
       "      <td>12 Years a Slave</td>\n",
       "      <td>0</td>\n",
       "      <td>2013</td>\n",
       "      <td>\\N</td>\n",
       "      <td>134</td>\n",
       "      <td>Biography,Drama,History</td>\n",
       "      <td>8.1</td>\n",
       "      <td>568768</td>\n",
       "      <td>2013-11-08</td>\n",
       "      <td>https://m.media-amazon.com/images/M/MV5BMjExMT...</td>\n",
       "      <td>USA</td>\n",
       "    </tr>\n",
       "    <tr>\n",
       "      <th>470</th>\n",
       "      <td>2194499</td>\n",
       "      <td>movie</td>\n",
       "      <td>About Time</td>\n",
       "      <td>About Time</td>\n",
       "      <td>0</td>\n",
       "      <td>2013</td>\n",
       "      <td>\\N</td>\n",
       "      <td>123</td>\n",
       "      <td>Comedy,Drama,Fantasy</td>\n",
       "      <td>7.8</td>\n",
       "      <td>255585</td>\n",
       "      <td>2013-11-08</td>\n",
       "      <td>https://m.media-amazon.com/images/M/MV5BMTA1OD...</td>\n",
       "      <td>USA</td>\n",
       "    </tr>\n",
       "    <tr>\n",
       "      <th>471</th>\n",
       "      <td>2294629</td>\n",
       "      <td>movie</td>\n",
       "      <td>Frozen</td>\n",
       "      <td>Frozen</td>\n",
       "      <td>0</td>\n",
       "      <td>2013</td>\n",
       "      <td>\\N</td>\n",
       "      <td>102</td>\n",
       "      <td>Adventure,Animation,Comedy</td>\n",
       "      <td>7.5</td>\n",
       "      <td>509815</td>\n",
       "      <td>2013-11-27</td>\n",
       "      <td>https://m.media-amazon.com/images/M/MV5BMTQ1Mj...</td>\n",
       "      <td>USA</td>\n",
       "    </tr>\n",
       "  </tbody>\n",
       "</table>\n",
       "</div>"
      ],
      "text/plain": [
       "      tconst titleType          primaryTitle         originalTitle  isAdult  \\\n",
       "467  1981115     movie  Thor: The Dark World  Thor: The Dark World        0   \n",
       "468  1981677     movie         Pitch Perfect         Pitch Perfect        0   \n",
       "469  2024544     movie      12 Years a Slave      12 Years a Slave        0   \n",
       "470  2194499     movie            About Time            About Time        0   \n",
       "471  2294629     movie                Frozen                Frozen        0   \n",
       "\n",
       "     startYear endYear  runtimeMinutes                      genres  \\\n",
       "467       2013      \\N             112    Action,Adventure,Fantasy   \n",
       "468       2012      \\N             112        Comedy,Music,Romance   \n",
       "469       2013      \\N             134     Biography,Drama,History   \n",
       "470       2013      \\N             123        Comedy,Drama,Fantasy   \n",
       "471       2013      \\N             102  Adventure,Animation,Comedy   \n",
       "\n",
       "     averageRating  numVotes releaseDate  \\\n",
       "467            7.0    523709  2013-11-08   \n",
       "468            7.2    253445  2012-10-05   \n",
       "469            8.1    568768  2013-11-08   \n",
       "470            7.8    255585  2013-11-08   \n",
       "471            7.5    509815  2013-11-27   \n",
       "\n",
       "                                             posterURL releaseCountry  \n",
       "467  https://m.media-amazon.com/images/M/MV5BMTQyNz...            USA  \n",
       "468  https://m.media-amazon.com/images/M/MV5BMTcyMT...            USA  \n",
       "469  https://m.media-amazon.com/images/M/MV5BMjExMT...            USA  \n",
       "470  https://m.media-amazon.com/images/M/MV5BMTA1OD...            USA  \n",
       "471  https://m.media-amazon.com/images/M/MV5BMTQ1Mj...            USA  "
      ]
     },
     "execution_count": 3,
     "metadata": {},
     "output_type": "execute_result"
    }
   ],
   "source": [
    "films_df = pd.read_csv('data/selected_films_easy.tsv', sep='\\t', index_col=0)\n",
    "films_df.tail(5)"
   ]
  },
  {
   "cell_type": "code",
   "execution_count": 60,
   "metadata": {},
   "outputs": [],
   "source": [
    "n=14\n",
    "deck = films_df.sample(n=14)"
   ]
  },
  {
   "cell_type": "code",
   "execution_count": 63,
   "metadata": {},
   "outputs": [
    {
     "name": "stdout",
     "output_type": "stream",
     "text": [
      "    primaryTitle  startYear\n",
      "0  Life of Brian       1979\n",
      "\n",
      "In the Wings:\n",
      "0    American History X\n",
      "1        Wreck-It Ralph\n",
      "2         Into the Wild\n",
      "Name: primaryTitle, dtype: object\n"
     ]
    },
    {
     "name": "stdin",
     "output_type": "stream",
     "text": [
      "Select movie in the wings to place (0, 1, 2): 1\n",
      "Select Movie Location: 1\n"
     ]
    },
    {
     "name": "stdout",
     "output_type": "stream",
     "text": [
      "\n",
      "\n",
      "Great Work!\n",
      "\n",
      "     primaryTitle  startYear\n",
      "0   Life of Brian       1979\n",
      "1  Wreck-It Ralph       2012\n",
      "\n",
      "In the Wings:\n",
      "0                 American History X\n",
      "1                      Into the Wild\n",
      "2    Monty Python and the Holy Grail\n",
      "Name: primaryTitle, dtype: object\n"
     ]
    },
    {
     "name": "stdin",
     "output_type": "stream",
     "text": [
      "Select movie in the wings to place (0, 1, 2): 2\n",
      "Select Movie Location: 0\n"
     ]
    },
    {
     "name": "stdout",
     "output_type": "stream",
     "text": [
      "\n",
      "\n",
      "Great Work!\n",
      "\n",
      "                      primaryTitle  startYear\n",
      "0  Monty Python and the Holy Grail       1975\n",
      "1                    Life of Brian       1979\n",
      "2                   Wreck-It Ralph       2012\n",
      "\n",
      "In the Wings:\n",
      "0    American History X\n",
      "1         Into the Wild\n",
      "2        V for Vendetta\n",
      "Name: primaryTitle, dtype: object\n"
     ]
    },
    {
     "name": "stdin",
     "output_type": "stream",
     "text": [
      "Select movie in the wings to place (0, 1, 2): 2\n",
      "Select Movie Location: 2\n"
     ]
    },
    {
     "name": "stdout",
     "output_type": "stream",
     "text": [
      "\n",
      "\n",
      "Great Work!\n",
      "\n",
      "                      primaryTitle  startYear\n",
      "0  Monty Python and the Holy Grail       1975\n",
      "1                    Life of Brian       1979\n",
      "2                   V for Vendetta       2005\n",
      "3                   Wreck-It Ralph       2012\n",
      "\n",
      "In the Wings:\n",
      "0    American History X\n",
      "1         Into the Wild\n",
      "2            Black Swan\n",
      "Name: primaryTitle, dtype: object\n"
     ]
    },
    {
     "name": "stdin",
     "output_type": "stream",
     "text": [
      "Select movie in the wings to place (0, 1, 2): 2\n",
      "Select Movie Location: 3\n"
     ]
    },
    {
     "name": "stdout",
     "output_type": "stream",
     "text": [
      "\n",
      "\n",
      "Great Work!\n",
      "\n",
      "                      primaryTitle  startYear\n",
      "0  Monty Python and the Holy Grail       1975\n",
      "1                    Life of Brian       1979\n",
      "2                   V for Vendetta       2005\n",
      "3                       Black Swan       2010\n",
      "4                   Wreck-It Ralph       2012\n",
      "\n",
      "In the Wings:\n",
      "0    American History X\n",
      "1         Into the Wild\n",
      "2             True Grit\n",
      "Name: primaryTitle, dtype: object\n"
     ]
    },
    {
     "name": "stdin",
     "output_type": "stream",
     "text": [
      "Select movie in the wings to place (0, 1, 2): 2\n",
      "Select Movie Location: 3\n"
     ]
    },
    {
     "name": "stdout",
     "output_type": "stream",
     "text": [
      "\n",
      "\n",
      "Great Work!\n",
      "\n",
      "close enough!\n",
      "                      primaryTitle  startYear\n",
      "0  Monty Python and the Holy Grail       1975\n",
      "1                    Life of Brian       1979\n",
      "2                   V for Vendetta       2005\n",
      "3                       Black Swan       2010\n",
      "4                        True Grit       2010\n",
      "5                   Wreck-It Ralph       2012\n",
      "\n",
      "In the Wings:\n",
      "0    American History X\n",
      "1         Into the Wild\n",
      "2             Liar Liar\n",
      "Name: primaryTitle, dtype: object\n"
     ]
    },
    {
     "name": "stdin",
     "output_type": "stream",
     "text": [
      "Select movie in the wings to place (0, 1, 2): 2\n",
      "Select Movie Location: 2\n"
     ]
    },
    {
     "name": "stdout",
     "output_type": "stream",
     "text": [
      "\n",
      "\n",
      "Great Work!\n",
      "\n",
      "                      primaryTitle  startYear\n",
      "0  Monty Python and the Holy Grail       1975\n",
      "1                    Life of Brian       1979\n",
      "2                        Liar Liar       1997\n",
      "3                   V for Vendetta       2005\n",
      "4                       Black Swan       2010\n",
      "5                        True Grit       2010\n",
      "6                   Wreck-It Ralph       2012\n",
      "\n",
      "In the Wings:\n",
      "0             American History X\n",
      "1                  Into the Wild\n",
      "2    Scott Pilgrim vs. the World\n",
      "Name: primaryTitle, dtype: object\n"
     ]
    },
    {
     "name": "stdin",
     "output_type": "stream",
     "text": [
      "Select movie in the wings to place (0, 1, 2): 2\n",
      "Select Movie Location: 4\n"
     ]
    },
    {
     "name": "stdout",
     "output_type": "stream",
     "text": [
      "\n",
      "\n",
      "Great Work!\n",
      "\n",
      "A Close one, and you nailed it!\n",
      "                      primaryTitle  startYear\n",
      "0  Monty Python and the Holy Grail       1975\n",
      "1                    Life of Brian       1979\n",
      "2                        Liar Liar       1997\n",
      "3                   V for Vendetta       2005\n",
      "4      Scott Pilgrim vs. the World       2010\n",
      "5                       Black Swan       2010\n",
      "6                        True Grit       2010\n",
      "7                   Wreck-It Ralph       2012\n",
      "\n",
      "In the Wings:\n",
      "0    American History X\n",
      "1         Into the Wild\n",
      "2             Cast Away\n",
      "Name: primaryTitle, dtype: object\n"
     ]
    },
    {
     "name": "stdin",
     "output_type": "stream",
     "text": [
      "Select movie in the wings to place (0, 1, 2): 2\n",
      "Select Movie Location: 3\n"
     ]
    },
    {
     "name": "stdout",
     "output_type": "stream",
     "text": [
      "\n",
      "\n",
      "Great Work!\n",
      "\n",
      "                      primaryTitle  startYear\n",
      "0  Monty Python and the Holy Grail       1975\n",
      "1                    Life of Brian       1979\n",
      "2                        Liar Liar       1997\n",
      "3                        Cast Away       2000\n",
      "4                   V for Vendetta       2005\n",
      "5      Scott Pilgrim vs. the World       2010\n",
      "6                       Black Swan       2010\n",
      "7                        True Grit       2010\n",
      "8                   Wreck-It Ralph       2012\n",
      "\n",
      "In the Wings:\n",
      "0    American History X\n",
      "1         Into the Wild\n",
      "2           City of God\n",
      "Name: primaryTitle, dtype: object\n"
     ]
    },
    {
     "name": "stdin",
     "output_type": "stream",
     "text": [
      "Select movie in the wings to place (0, 1, 2): 2\n",
      "Select Movie Location: 9\n"
     ]
    },
    {
     "name": "stdout",
     "output_type": "stream",
     "text": [
      "\n",
      "\n",
      "Nope.\n",
      "City of God came out in 2002\n",
      "\n",
      "                      primaryTitle  startYear\n",
      "0  Monty Python and the Holy Grail       1975\n",
      "1                    Life of Brian       1979\n",
      "2                        Liar Liar       1997\n",
      "3                        Cast Away       2000\n",
      "4                   V for Vendetta       2005\n",
      "5      Scott Pilgrim vs. the World       2010\n",
      "6                       Black Swan       2010\n",
      "7                        True Grit       2010\n",
      "8                   Wreck-It Ralph       2012\n",
      "\n",
      "In the Wings:\n",
      "0    American History X\n",
      "1         Into the Wild\n",
      "2      Captain Phillips\n",
      "Name: primaryTitle, dtype: object\n"
     ]
    },
    {
     "name": "stdin",
     "output_type": "stream",
     "text": [
      "Select movie in the wings to place (0, 1, 2): 2\n",
      "Select Movie Location: 8\n"
     ]
    },
    {
     "name": "stdout",
     "output_type": "stream",
     "text": [
      "\n",
      "\n",
      "Nope.\n",
      "Captain Phillips came out in 2013\n",
      "\n",
      "                      primaryTitle  startYear\n",
      "0  Monty Python and the Holy Grail       1975\n",
      "1                    Life of Brian       1979\n",
      "2                        Liar Liar       1997\n",
      "3                        Cast Away       2000\n",
      "4                   V for Vendetta       2005\n",
      "5      Scott Pilgrim vs. the World       2010\n",
      "6                       Black Swan       2010\n",
      "7                        True Grit       2010\n",
      "8                   Wreck-It Ralph       2012\n",
      "\n",
      "In the Wings:\n",
      "0    American History X\n",
      "1         Into the Wild\n",
      "Name: primaryTitle, dtype: object\n"
     ]
    },
    {
     "name": "stdin",
     "output_type": "stream",
     "text": [
      "Select movie in the wings to place (0, 1, 2): 1\n",
      "Select Movie Location: 1\n"
     ]
    },
    {
     "name": "stdout",
     "output_type": "stream",
     "text": [
      "\n",
      "\n",
      "Nope.\n",
      "Into the Wild came out in 2007\n",
      "\n",
      "                      primaryTitle  startYear\n",
      "0  Monty Python and the Holy Grail       1975\n",
      "1                    Life of Brian       1979\n",
      "2                        Liar Liar       1997\n",
      "3                        Cast Away       2000\n",
      "4                   V for Vendetta       2005\n",
      "5      Scott Pilgrim vs. the World       2010\n",
      "6                       Black Swan       2010\n",
      "7                        True Grit       2010\n",
      "8                   Wreck-It Ralph       2012\n",
      "\n",
      "In the Wings:\n",
      "0    American History X\n",
      "Name: primaryTitle, dtype: object\n"
     ]
    },
    {
     "name": "stdin",
     "output_type": "stream",
     "text": [
      "Select movie in the wings to place (0, 1, 2): 5\n"
     ]
    },
    {
     "ename": "IndexError",
     "evalue": "single positional indexer is out-of-bounds",
     "output_type": "error",
     "traceback": [
      "\u001b[0;31m---------------------------------------------------------------------------\u001b[0m",
      "\u001b[0;31mIndexError\u001b[0m                                Traceback (most recent call last)",
      "\u001b[0;32m<ipython-input-63-c5bf04912939>\u001b[0m in \u001b[0;36m<module>\u001b[0;34m\u001b[0m\n\u001b[1;32m     13\u001b[0m     \u001b[0mprint\u001b[0m\u001b[0;34m(\u001b[0m\u001b[0mwings\u001b[0m\u001b[0;34m[\u001b[0m\u001b[0;34m'primaryTitle'\u001b[0m\u001b[0;34m]\u001b[0m\u001b[0;34m)\u001b[0m\u001b[0;34m\u001b[0m\u001b[0m\n\u001b[1;32m     14\u001b[0m     \u001b[0mwing_select\u001b[0m \u001b[0;34m=\u001b[0m \u001b[0mint\u001b[0m\u001b[0;34m(\u001b[0m\u001b[0minput\u001b[0m\u001b[0;34m(\u001b[0m\u001b[0;34m'Select movie in the wings to place (0, 1, 2):'\u001b[0m\u001b[0;34m)\u001b[0m\u001b[0;34m)\u001b[0m\u001b[0;34m\u001b[0m\u001b[0m\n\u001b[0;32m---> 15\u001b[0;31m     \u001b[0mto_place\u001b[0m \u001b[0;34m=\u001b[0m \u001b[0mwings\u001b[0m\u001b[0;34m.\u001b[0m\u001b[0miloc\u001b[0m\u001b[0;34m[\u001b[0m\u001b[0mint\u001b[0m\u001b[0;34m(\u001b[0m\u001b[0mwing_select\u001b[0m\u001b[0;34m)\u001b[0m\u001b[0;34m]\u001b[0m\u001b[0;34m\u001b[0m\u001b[0m\n\u001b[0m\u001b[1;32m     16\u001b[0m     \u001b[0mwings\u001b[0m\u001b[0;34m.\u001b[0m\u001b[0mdrop\u001b[0m\u001b[0;34m(\u001b[0m\u001b[0mwing_select\u001b[0m\u001b[0;34m,\u001b[0m \u001b[0minplace\u001b[0m\u001b[0;34m=\u001b[0m\u001b[0;32mTrue\u001b[0m\u001b[0;34m)\u001b[0m\u001b[0;34m\u001b[0m\u001b[0m\n\u001b[1;32m     17\u001b[0m     \u001b[0;32mif\u001b[0m \u001b[0mdeck_loc\u001b[0m \u001b[0;34m<\u001b[0m \u001b[0;34m(\u001b[0m\u001b[0mn\u001b[0m\u001b[0;34m-\u001b[0m\u001b[0;36m1\u001b[0m\u001b[0;34m)\u001b[0m\u001b[0;34m:\u001b[0m\u001b[0;34m\u001b[0m\u001b[0m\n",
      "\u001b[0;32m~/Documents/Repos/moviechron/mcenv/lib/python3.6/site-packages/pandas/core/indexing.py\u001b[0m in \u001b[0;36m__getitem__\u001b[0;34m(self, key)\u001b[0m\n\u001b[1;32m   1498\u001b[0m \u001b[0;34m\u001b[0m\u001b[0m\n\u001b[1;32m   1499\u001b[0m             \u001b[0mmaybe_callable\u001b[0m \u001b[0;34m=\u001b[0m \u001b[0mcom\u001b[0m\u001b[0;34m.\u001b[0m\u001b[0mapply_if_callable\u001b[0m\u001b[0;34m(\u001b[0m\u001b[0mkey\u001b[0m\u001b[0;34m,\u001b[0m \u001b[0mself\u001b[0m\u001b[0;34m.\u001b[0m\u001b[0mobj\u001b[0m\u001b[0;34m)\u001b[0m\u001b[0;34m\u001b[0m\u001b[0m\n\u001b[0;32m-> 1500\u001b[0;31m             \u001b[0;32mreturn\u001b[0m \u001b[0mself\u001b[0m\u001b[0;34m.\u001b[0m\u001b[0m_getitem_axis\u001b[0m\u001b[0;34m(\u001b[0m\u001b[0mmaybe_callable\u001b[0m\u001b[0;34m,\u001b[0m \u001b[0maxis\u001b[0m\u001b[0;34m=\u001b[0m\u001b[0maxis\u001b[0m\u001b[0;34m)\u001b[0m\u001b[0;34m\u001b[0m\u001b[0m\n\u001b[0m\u001b[1;32m   1501\u001b[0m \u001b[0;34m\u001b[0m\u001b[0m\n\u001b[1;32m   1502\u001b[0m     \u001b[0;32mdef\u001b[0m \u001b[0m_is_scalar_access\u001b[0m\u001b[0;34m(\u001b[0m\u001b[0mself\u001b[0m\u001b[0;34m,\u001b[0m \u001b[0mkey\u001b[0m\u001b[0;34m)\u001b[0m\u001b[0;34m:\u001b[0m\u001b[0;34m\u001b[0m\u001b[0m\n",
      "\u001b[0;32m~/Documents/Repos/moviechron/mcenv/lib/python3.6/site-packages/pandas/core/indexing.py\u001b[0m in \u001b[0;36m_getitem_axis\u001b[0;34m(self, key, axis)\u001b[0m\n\u001b[1;32m   2228\u001b[0m \u001b[0;34m\u001b[0m\u001b[0m\n\u001b[1;32m   2229\u001b[0m             \u001b[0;31m# validate the location\u001b[0m\u001b[0;34m\u001b[0m\u001b[0;34m\u001b[0m\u001b[0m\n\u001b[0;32m-> 2230\u001b[0;31m             \u001b[0mself\u001b[0m\u001b[0;34m.\u001b[0m\u001b[0m_validate_integer\u001b[0m\u001b[0;34m(\u001b[0m\u001b[0mkey\u001b[0m\u001b[0;34m,\u001b[0m \u001b[0maxis\u001b[0m\u001b[0;34m)\u001b[0m\u001b[0;34m\u001b[0m\u001b[0m\n\u001b[0m\u001b[1;32m   2231\u001b[0m \u001b[0;34m\u001b[0m\u001b[0m\n\u001b[1;32m   2232\u001b[0m             \u001b[0;32mreturn\u001b[0m \u001b[0mself\u001b[0m\u001b[0;34m.\u001b[0m\u001b[0m_get_loc\u001b[0m\u001b[0;34m(\u001b[0m\u001b[0mkey\u001b[0m\u001b[0;34m,\u001b[0m \u001b[0maxis\u001b[0m\u001b[0;34m=\u001b[0m\u001b[0maxis\u001b[0m\u001b[0;34m)\u001b[0m\u001b[0;34m\u001b[0m\u001b[0m\n",
      "\u001b[0;32m~/Documents/Repos/moviechron/mcenv/lib/python3.6/site-packages/pandas/core/indexing.py\u001b[0m in \u001b[0;36m_validate_integer\u001b[0;34m(self, key, axis)\u001b[0m\n\u001b[1;32m   2137\u001b[0m         \u001b[0mlen_axis\u001b[0m \u001b[0;34m=\u001b[0m \u001b[0mlen\u001b[0m\u001b[0;34m(\u001b[0m\u001b[0mself\u001b[0m\u001b[0;34m.\u001b[0m\u001b[0mobj\u001b[0m\u001b[0;34m.\u001b[0m\u001b[0m_get_axis\u001b[0m\u001b[0;34m(\u001b[0m\u001b[0maxis\u001b[0m\u001b[0;34m)\u001b[0m\u001b[0;34m)\u001b[0m\u001b[0;34m\u001b[0m\u001b[0m\n\u001b[1;32m   2138\u001b[0m         \u001b[0;32mif\u001b[0m \u001b[0mkey\u001b[0m \u001b[0;34m>=\u001b[0m \u001b[0mlen_axis\u001b[0m \u001b[0;32mor\u001b[0m \u001b[0mkey\u001b[0m \u001b[0;34m<\u001b[0m \u001b[0;34m-\u001b[0m\u001b[0mlen_axis\u001b[0m\u001b[0;34m:\u001b[0m\u001b[0;34m\u001b[0m\u001b[0m\n\u001b[0;32m-> 2139\u001b[0;31m             \u001b[0;32mraise\u001b[0m \u001b[0mIndexError\u001b[0m\u001b[0;34m(\u001b[0m\u001b[0;34m\"single positional indexer is out-of-bounds\"\u001b[0m\u001b[0;34m)\u001b[0m\u001b[0;34m\u001b[0m\u001b[0m\n\u001b[0m\u001b[1;32m   2140\u001b[0m \u001b[0;34m\u001b[0m\u001b[0m\n\u001b[1;32m   2141\u001b[0m     \u001b[0;32mdef\u001b[0m \u001b[0m_getitem_tuple\u001b[0m\u001b[0;34m(\u001b[0m\u001b[0mself\u001b[0m\u001b[0;34m,\u001b[0m \u001b[0mtup\u001b[0m\u001b[0;34m)\u001b[0m\u001b[0;34m:\u001b[0m\u001b[0;34m\u001b[0m\u001b[0m\n",
      "\u001b[0;31mIndexError\u001b[0m: single positional indexer is out-of-bounds"
     ]
    }
   ],
   "source": [
    "deck_loc = 0\n",
    "timeline =deck.iloc[deck_loc:deck_loc+1].reset_index()\n",
    "timeline_abbr=timeline.loc[:,['primaryTitle','startYear']]\n",
    "\n",
    "deck_loc = deck_loc +1\n",
    "\n",
    "print(timeline_abbr)\n",
    "print('\\nIn the Wings:')\n",
    "wings = deck.iloc[deck_loc:deck_loc+3].reset_index()\n",
    "\n",
    "deck_loc = deck_loc +3\n",
    "while (deck_loc < n) and  (len(wings)>0):\n",
    "    print(wings['primaryTitle'])\n",
    "    wing_select = int(input('Select movie in the wings to place (0, 1, 2):'))\n",
    "    to_place = wings.iloc[int(wing_select)]\n",
    "    wings.drop(wing_select, inplace=True)\n",
    "    if deck_loc < (n-1):\n",
    "        wings = wings.append(deck.iloc[deck_loc:deck_loc+1], sort=False)\n",
    "        wings = wings.reset_index(drop=True)\n",
    "        deck_loc=deck_loc+1\n",
    "    true_date = to_place['startYear']\n",
    "    location_guess = input('Select Movie Location:')\n",
    "    location_guess = int(location_guess)\n",
    "    print('\\n')\n",
    "\n",
    "    if location_guess <= 0:\n",
    "        compare_above = timeline.iloc[0]\n",
    "        compare_date_below = -float('inf')\n",
    "        compare_date_above = int(timeline.iloc[0]['startYear'])\n",
    "    elif location_guess > (len(timeline)-1):\n",
    "        compare_below = timeline.iloc[len(timeline)-1]\n",
    "        compare_date_below = int(timeline.iloc[len(timeline)-1]['startYear'])\n",
    "        compare_date_above = float('inf')\n",
    "    else:\n",
    "        compare_below = timeline.iloc[location_guess-1]\n",
    "        compare_above = timeline.iloc[location_guess]\n",
    "        compare_date_below = int(timeline.iloc[location_guess-1]['startYear'])\n",
    "        compare_date_above = int(timeline.iloc[location_guess]['startYear'])\n",
    "\n",
    "    if compare_date_below <= true_date <= compare_date_above:\n",
    "        print('Great Work!\\n')\n",
    "        if compare_date_below == true_date:\n",
    "            \"\"\"Code for close ones\"\"\"\n",
    "            if compare_below['releaseDate'] < to_place['releaseDate']:\n",
    "                print('A Close one, and you nailed it!')\n",
    "                \"\"\"Code for close calls here\"\"\"\n",
    "            else:\n",
    "                print ('close enough!')\n",
    "        elif compare_date_above == true_date:\n",
    "            if to_place['releaseDate'] < compare_above['releaseDate']:\n",
    "                print('A Close one, and you nailed it!')\n",
    "                \"\"\"Code for close calls here\"\"\"\n",
    "            else:\n",
    "                print ('close enough!')\n",
    "\n",
    "        \n",
    "        timeline=timeline.append(to_place).sort_values(by='releaseDate').reset_index(drop=True)\n",
    "        timeline_abbr=timeline.loc[:,['primaryTitle','startYear']]\n",
    "    else:\n",
    "        print('Nope.')\n",
    "        print(to_place['primaryTitle']+' came out in '+str(true_date)+'\\n')\n",
    "        \"\"\"\n",
    "        Losing points code here\n",
    "        \"\"\"\n",
    "    print(timeline_abbr)\n",
    "    print('\\nIn the Wings:')\n",
    "\n",
    "\n"
   ]
  }
 ],
 "metadata": {
  "kernelspec": {
   "display_name": "mcenv",
   "language": "python",
   "name": "mcenv"
  },
  "language_info": {
   "codemirror_mode": {
    "name": "ipython",
    "version": 3
   },
   "file_extension": ".py",
   "mimetype": "text/x-python",
   "name": "python",
   "nbconvert_exporter": "python",
   "pygments_lexer": "ipython3",
   "version": "3.6.5"
  }
 },
 "nbformat": 4,
 "nbformat_minor": 2
}
